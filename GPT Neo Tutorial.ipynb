{
 "cells": [
  {
   "cell_type": "code",
   "execution_count": 1,
   "metadata": {},
   "outputs": [
    {
     "name": "stderr",
     "output_type": "stream",
     "text": [
      "Setting `pad_token_id` to `eos_token_id`:50256 for open-end generation.\n"
     ]
    },
    {
     "data": {
      "text/plain": [
       "[{'generated_text': 'But in the corner of the room you feel that something watching you is here: a kind of alien. And yet you were there before you knew anything'},\n",
       " {'generated_text': \"But in the corner of the room you feel that something watching you is in, and that this is what you're being watched for - a desire to\"},\n",
       " {'generated_text': 'But in the corner of the room you feel that something watching you was bothering you. The camera goes low. The words to take you to the next'},\n",
       " {'generated_text': 'But in the corner of the room you feel that something watching you was more important than seeing us in your mind.\\nThere was probably one more moment'},\n",
       " {'generated_text': \"But in the corner of the room you feel that something watching you moves, like a magnet for the light as you come under the covers. You're\"}]"
      ]
     },
     "execution_count": 1,
     "metadata": {},
     "output_type": "execute_result"
    }
   ],
   "source": [
    "from transformers import pipeline, set_seed\n",
    "generator = pipeline('text-generation', model='gpt2')\n",
    "set_seed(42)\n",
    "generator(\"But in the corner of the room you feel that something watching you\", max_length=30, num_return_sequences=5)"
   ]
  },
  {
   "cell_type": "code",
   "execution_count": 2,
   "metadata": {},
   "outputs": [
    {
     "name": "stderr",
     "output_type": "stream",
     "text": [
      "Some weights of the model checkpoint at roberta-large-mnli were not used when initializing RobertaForSequenceClassification: ['roberta.pooler.dense.bias', 'roberta.pooler.dense.weight']\n",
      "- This IS expected if you are initializing RobertaForSequenceClassification from the checkpoint of a model trained on another task or with another architecture (e.g. initializing a BertForSequenceClassification model from a BertForPreTraining model).\n",
      "- This IS NOT expected if you are initializing RobertaForSequenceClassification from the checkpoint of a model that you expect to be exactly identical (initializing a BertForSequenceClassification model from a BertForSequenceClassification model).\n"
     ]
    }
   ],
   "source": [
    "from transformers import pipeline\n",
    "classifier = pipeline('zero-shot-classification', model='roberta-large-mnli')"
   ]
  },
  {
   "cell_type": "code",
   "execution_count": 3,
   "metadata": {},
   "outputs": [
    {
     "data": {
      "text/plain": [
       "{'sequence': 'Ukrainian investigators on Friday began exhuming hundreds of bodies found after Russian forces fled the city of Izium in disarray last weekend. It was the first step in what officials said would be a painstaking process of figuring out how people had died during a three-week siege of their city and the six months of Russian occupation that followed.',\n",
       " 'labels': ['war', 'travel', 'cooking', 'dancing'],\n",
       " 'scores': [0.8278039693832397,\n",
       "  0.09191113710403442,\n",
       "  0.05139894038438797,\n",
       "  0.0288859773427248]}"
      ]
     },
     "execution_count": 3,
     "metadata": {},
     "output_type": "execute_result"
    }
   ],
   "source": [
    "sequence_to_classify = \"Ukrainian investigators on Friday began exhuming hundreds of bodies found after Russian forces fled the city of Izium in disarray last weekend. It was the first step in what officials said would be a painstaking process of figuring out how people had died during a three-week siege of their city and the six months of Russian occupation that followed.\"\n",
    "candidate_labels = ['travel', 'cooking', 'dancing', 'war']\n",
    "classifier(sequence_to_classify, candidate_labels)"
   ]
  },
  {
   "cell_type": "code",
   "execution_count": 4,
   "metadata": {},
   "outputs": [
    {
     "data": {
      "text/plain": [
       "{'sequence': 'Melt butter in a large pot over medium-low heat. Slowly add flour to butter, whisking constantly; cook until brown and the mixture no longer smells of flour, about 5 minutes. Pour 1 cup milk into the flour mixture, whisking continually until fully incorporated, about 45 seconds; repeat twice. Add remaining 3 cups milk to the mixture, whisking to incorporate. Stir Worcestershire sauce, mustard powder, onion powder, and cayenne pepper into the mixture; season with salt and black pepper.',\n",
       " 'labels': ['cooking', 'travel', 'war', 'dancing'],\n",
       " 'scores': [0.8790090084075928,\n",
       "  0.09247511625289917,\n",
       "  0.01826367899775505,\n",
       "  0.010252210311591625]}"
      ]
     },
     "execution_count": 4,
     "metadata": {},
     "output_type": "execute_result"
    }
   ],
   "source": [
    "sequence_to_classify = \"Melt butter in a large pot over medium-low heat. Slowly add flour to butter, whisking constantly; cook until brown and the mixture no longer smells of flour, about 5 minutes. Pour 1 cup milk into the flour mixture, whisking continually until fully incorporated, about 45 seconds; repeat twice. Add remaining 3 cups milk to the mixture, whisking to incorporate. Stir Worcestershire sauce, mustard powder, onion powder, and cayenne pepper into the mixture; season with salt and black pepper.\"\n",
    "candidate_labels = ['travel', 'cooking', 'dancing', 'war']\n",
    "classifier(sequence_to_classify, candidate_labels)"
   ]
  },
  {
   "cell_type": "code",
   "execution_count": 5,
   "metadata": {},
   "outputs": [],
   "source": [
    "from transformers import pipeline\n",
    "classifier = pipeline(\"zero-shot-classification\", model=\"facebook/bart-large-mnli\")"
   ]
  },
  {
   "cell_type": "code",
   "execution_count": 7,
   "metadata": {},
   "outputs": [
    {
     "data": {
      "text/plain": [
       "{'sequence': 'Newton’s first law states that if a body is at rest or moving at a constant speed in a straight line, it will remain at rest or keep moving in a straight line at constant speed unless it is acted upon by a force. In fact, in classical Newtonian mechanics, there is no important distinction between rest and uniform motion in a straight line; they may be regarded as the same state of motion seen by different observers, one moving at the same velocity as the particle and the other moving at constant velocity with respect to the particle. This postulate is known as the law of inertia. The law of inertia was first formulated by Galileo Galilei for horizontal motion on Earth and was later generalized by René Descartes. Although the principle of inertia is the starting point and the fundamental assumption of classical mechanics, it is less than intuitively obvious to the untrained eye. In Aristotelian mechanics and in ordinary experience, objects that are not being pushed tend to come to rest. The law of inertia was deduced by Galileo from his experiments with balls rolling down inclined planes.',\n",
       " 'labels': ['dynamics', 'kinematics', 'dancing', 'war'],\n",
       " 'scores': [0.4004382789134979,\n",
       "  0.37313881516456604,\n",
       "  0.12062590569257736,\n",
       "  0.10579702258110046]}"
      ]
     },
     "execution_count": 7,
     "metadata": {},
     "output_type": "execute_result"
    }
   ],
   "source": [
    "sequence_to_classify = \"Newton’s first law states that if a body is at rest or moving at a constant speed in a straight line, it will remain at rest or keep moving in a straight line at constant speed unless it is acted upon by a force. In fact, in classical Newtonian mechanics, there is no important distinction between rest and uniform motion in a straight line; they may be regarded as the same state of motion seen by different observers, one moving at the same velocity as the particle and the other moving at constant velocity with respect to the particle. This postulate is known as the law of inertia. The law of inertia was first formulated by Galileo Galilei for horizontal motion on Earth and was later generalized by René Descartes. Although the principle of inertia is the starting point and the fundamental assumption of classical mechanics, it is less than intuitively obvious to the untrained eye. In Aristotelian mechanics and in ordinary experience, objects that are not being pushed tend to come to rest. The law of inertia was deduced by Galileo from his experiments with balls rolling down inclined planes.\"\n",
    "candidate_labels = ['dynamics', 'kinematics', 'dancing', 'war']\n",
    "classifier(sequence_to_classify, candidate_labels)"
   ]
  },
  {
   "cell_type": "code",
   "execution_count": 23,
   "metadata": {},
   "outputs": [
    {
     "data": {
      "application/vnd.jupyter.widget-view+json": {
       "model_id": "46d43b12316740a2a045cc6dc512f724",
       "version_major": 2,
       "version_minor": 0
      },
      "text/plain": [
       "Downloading:   0%|          | 0.00/433M [00:00<?, ?B/s]"
      ]
     },
     "metadata": {},
     "output_type": "display_data"
    }
   ],
   "source": [
    "from transformers import AutoModelForSequenceClassification, AutoTokenizer\n",
    "\n",
    "model = AutoModelForSequenceClassification.from_pretrained(\"dracero/autotrain-physics-fine-tunedv2-1574755884\")"
   ]
  },
  {
   "cell_type": "code",
   "execution_count": 27,
   "metadata": {},
   "outputs": [
    {
     "data": {
      "application/vnd.jupyter.widget-view+json": {
       "model_id": "557839388cf34007965caa0522d467a7",
       "version_major": 2,
       "version_minor": 0
      },
      "text/plain": [
       "Downloading:   0%|          | 0.00/976 [00:00<?, ?B/s]"
      ]
     },
     "metadata": {},
     "output_type": "display_data"
    }
   ],
   "source": [
    "classifier = pipeline(model=\"dracero/autotrain-physics-fine-tunedv2-1574755884\")"
   ]
  },
  {
   "cell_type": "code",
   "execution_count": 28,
   "metadata": {},
   "outputs": [
    {
     "name": "stderr",
     "output_type": "stream",
     "text": [
      "Ignoring args : (['dynamics', 'kinematics'],)\n"
     ]
    },
    {
     "data": {
      "text/plain": [
       "[{'label': 'kinematics', 'score': 0.9231052398681641}]"
      ]
     },
     "execution_count": 28,
     "metadata": {},
     "output_type": "execute_result"
    }
   ],
   "source": [
    "sequence_to_classify = \"find the velocity of a car which moves with a rectilinear movement with cero aceleration\"\n",
    "candidate_labels = ['dynamics', 'kinematics']\n",
    "classifier(sequence_to_classify, candidate_labels)"
   ]
  },
  {
   "cell_type": "code",
   "execution_count": 29,
   "metadata": {},
   "outputs": [
    {
     "name": "stderr",
     "output_type": "stream",
     "text": [
      "Ignoring args : (['dynamics', 'kinematics'],)\n"
     ]
    },
    {
     "data": {
      "text/plain": [
       "[{'label': 'dymanics', 'score': 0.9024902582168579}]"
      ]
     },
     "execution_count": 29,
     "metadata": {},
     "output_type": "execute_result"
    }
   ],
   "source": [
    "sequence_to_classify = \"Which is the energy employed to rise a block a 9N from grond level to 5 meters\"\n",
    "candidate_labels = ['dynamics', 'kinematics']\n",
    "classifier(sequence_to_classify, candidate_labels)"
   ]
  },
  {
   "cell_type": "code",
   "execution_count": 30,
   "metadata": {},
   "outputs": [
    {
     "name": "stderr",
     "output_type": "stream",
     "text": [
      "Ignoring args : (['dynamics', 'kinematics'],)\n"
     ]
    },
    {
     "data": {
      "text/plain": [
       "[{'label': 'dymanics', 'score': 0.9045920968055725}]"
      ]
     },
     "execution_count": 30,
     "metadata": {},
     "output_type": "execute_result"
    }
   ],
   "source": [
    "sequence_to_classify = \"Since astronauts in orbit are apparently weightless, a clever method of measuring their masses is needed to monitor their mass gains or losses to adjust diets. One way to do this is to exert a known force on an astronaut and measure the acceleration produced. Suppose a net external force of 50.0 N is exerted and the astronaut’s acceleration is measured to be 0.893 m/s2. (a) Calculate her mass. (b) By exerting a force on the astronaut, the vehicle in which they orbit experiences an equal and opposite force. Discuss how this would affect the measurement of the astronaut’s acceleration. Propose a method in which recoil of the vehicle is avoided.\"\n",
    "candidate_labels = ['dynamics', 'kinematics']\n",
    "classifier(sequence_to_classify, candidate_labels)"
   ]
  },
  {
   "cell_type": "code",
   "execution_count": 31,
   "metadata": {},
   "outputs": [
    {
     "name": "stderr",
     "output_type": "stream",
     "text": [
      "Ignoring args : (['dynamics', 'kinematics'],)\n"
     ]
    },
    {
     "data": {
      "text/plain": [
       "[{'label': 'kinematics', 'score': 0.6775309443473816}]"
      ]
     },
     "execution_count": 31,
     "metadata": {},
     "output_type": "execute_result"
    }
   ],
   "source": [
    "sequence_to_classify = \"An engineer is designing the runway for an airport. Of the planes that will use the airport, the lowest acceleration rate is likely to be 3 m/s2. The takeoff speed for this plane will be 65 m/s. Assuming this minimum acceleration, what is the minimum allowed length for the runway?\"\n",
    "candidate_labels = ['dynamics', 'kinematics']\n",
    "classifier(sequence_to_classify, candidate_labels)"
   ]
  }
 ],
 "metadata": {
  "kernelspec": {
   "display_name": "Python 3.8.10 64-bit",
   "language": "python",
   "name": "python3"
  },
  "language_info": {
   "codemirror_mode": {
    "name": "ipython",
    "version": 3
   },
   "file_extension": ".py",
   "mimetype": "text/x-python",
   "name": "python",
   "nbconvert_exporter": "python",
   "pygments_lexer": "ipython3",
   "version": "3.8.10"
  },
  "orig_nbformat": 4,
  "vscode": {
   "interpreter": {
    "hash": "916dbcbb3f70747c44a77c7bcd40155683ae19c65e1c03b4aa3499c5328201f1"
   }
  }
 },
 "nbformat": 4,
 "nbformat_minor": 2
}
